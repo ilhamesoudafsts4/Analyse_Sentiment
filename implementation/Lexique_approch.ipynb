{
 "cells": [
  {
   "cell_type": "code",
   "execution_count": 2,
   "id": "efd10848",
   "metadata": {},
   "outputs": [],
   "source": [
    "import numpy as np\n",
    "import pandas as pd\n",
    "import sklearn.metrics as mt\n",
    "from tabulate import tabulate\n",
    "from sklearn.svm import LinearSVC\n",
    "import sklearn.model_selection as ms\n",
    "from matplotlib import pyplot as plt\n",
    "from sklearn.pipeline import make_pipeline\n",
    "from sklearn.preprocessing import Normalizer\n",
    "from sklearn.decomposition import TruncatedSVD\n",
    "from sklearn.feature_extraction.text import TfidfVectorizer\n",
    "\n",
    "import pandas as pd\n",
    "from time import sleep\n",
    "from nltk.sentiment.vader import SentimentIntensityAnalyzer"
   ]
  },
  {
   "cell_type": "code",
   "execution_count": 3,
   "id": "e7012bfb",
   "metadata": {},
   "outputs": [
    {
     "data": {
      "text/html": [
       "<div>\n",
       "<style scoped>\n",
       "    .dataframe tbody tr th:only-of-type {\n",
       "        vertical-align: middle;\n",
       "    }\n",
       "\n",
       "    .dataframe tbody tr th {\n",
       "        vertical-align: top;\n",
       "    }\n",
       "\n",
       "    .dataframe thead th {\n",
       "        text-align: right;\n",
       "    }\n",
       "</style>\n",
       "<table border=\"1\" class=\"dataframe\">\n",
       "  <thead>\n",
       "    <tr style=\"text-align: right;\">\n",
       "      <th></th>\n",
       "      <th>review.tokened</th>\n",
       "      <th>sentiment</th>\n",
       "    </tr>\n",
       "  </thead>\n",
       "  <tbody>\n",
       "    <tr>\n",
       "      <th>0</th>\n",
       "      <td>feel lucky find use phone not use hard phone l...</td>\n",
       "      <td>positive</td>\n",
       "    </tr>\n",
       "    <tr>\n",
       "      <th>1</th>\n",
       "      <td>nice phone nice grade pantach revue clean set ...</td>\n",
       "      <td>positive</td>\n",
       "    </tr>\n",
       "    <tr>\n",
       "      <th>2</th>\n",
       "      <td>pleased</td>\n",
       "      <td>positive</td>\n",
       "    </tr>\n",
       "    <tr>\n",
       "      <th>3</th>\n",
       "      <td>work good go slow sometimes good phone love</td>\n",
       "      <td>positive</td>\n",
       "    </tr>\n",
       "    <tr>\n",
       "      <th>4</th>\n",
       "      <td>great phone replace lose phone thing volume bu...</td>\n",
       "      <td>positive</td>\n",
       "    </tr>\n",
       "  </tbody>\n",
       "</table>\n",
       "</div>"
      ],
      "text/plain": [
       "                                      review.tokened sentiment\n",
       "0  feel lucky find use phone not use hard phone l...  positive\n",
       "1  nice phone nice grade pantach revue clean set ...  positive\n",
       "2                                            pleased  positive\n",
       "3        work good go slow sometimes good phone love  positive\n",
       "4  great phone replace lose phone thing volume bu...  positive"
      ]
     },
     "execution_count": 3,
     "metadata": {},
     "output_type": "execute_result"
    }
   ],
   "source": [
    "filename = 'data_sentiment.csv'\n",
    "names = ['product.name', 'brand.name', 'review.text', 'review.process', 'review.tokened', 'score', 'sentiment']\n",
    "fields = ['review.tokened', 'sentiment']\n",
    "review = pd.read_csv(filename, names=names, usecols=fields)\n",
    "review.head()"
   ]
  },
  {
   "cell_type": "code",
   "execution_count": 5,
   "id": "11ac79f0",
   "metadata": {},
   "outputs": [
    {
     "name": "stdout",
     "output_type": "stream",
     "text": [
      "split data --- start\n"
     ]
    }
   ],
   "source": [
    "\n",
    "# split data 70% train 30% test\n",
    "print('split data --- start')\n",
    "array = review.values\n",
    "X = array[:, 0:1]\n",
    "\n",
    "Y = array[:, 1]\n",
    "review['sentiment']\n",
    "\n",
    "size = 0.3\n"
   ]
  },
  {
   "cell_type": "code",
   "execution_count": null,
   "id": "b86b2570",
   "metadata": {},
   "outputs": [],
   "source": []
  },
  {
   "cell_type": "code",
   "execution_count": 6,
   "id": "375a85f8",
   "metadata": {},
   "outputs": [
    {
     "name": "stdout",
     "output_type": "stream",
     "text": [
      "split data --- end\n",
      "['positive' 'positive' 'positive' ... 'positive' 'positive' 'positive']\n"
     ]
    }
   ],
   "source": [
    "# testX and trainX is review.tokened\n",
    "# testY and trainY is sentiment\n",
    "trainX, testX, trainY, testY = ms.train_test_split(X, Y, test_size=size, shuffle=True)\n",
    "print('split data --- end')\n",
    "print(trainY)"
   ]
  },
  {
   "cell_type": "code",
   "execution_count": 7,
   "id": "a9703ef0",
   "metadata": {},
   "outputs": [
    {
     "name": "stdout",
     "output_type": "stream",
     "text": [
      "feature extraction --- start\n",
      "feature extraction --- end\n",
      "\n"
     ]
    }
   ],
   "source": [
    "# feature extraction\n",
    "print('feature extraction --- start')\n",
    "tv = TfidfVectorizer(use_idf=True, min_df=0.0, max_df=1.0, ngram_range=(1, 2), sublinear_tf=False,\n",
    "                     max_features=10000, smooth_idf=True, stop_words='english')\n",
    "tv_train = tv.fit_transform(trainX.ravel())\n",
    "\n",
    "tv_test = tv.transform(testX.ravel())  # transform test review into features\n",
    "print('feature extraction --- end')\n",
    "\n",
    "print()"
   ]
  },
  {
   "cell_type": "code",
   "execution_count": 8,
   "id": "3294de1f",
   "metadata": {},
   "outputs": [
    {
     "name": "stdout",
     "output_type": "stream",
     "text": [
      "latent semantic analysis --- start\n",
      "latent semantic analysis --- end\n"
     ]
    }
   ],
   "source": [
    "# latent semantic analysis on train data (lexicon based)\n",
    "print('latent semantic analysis --- start')\n",
    "svd = TruncatedSVD(100)\n",
    "lsa = make_pipeline(svd, Normalizer(copy=False))\n",
    "lsa_train = lsa.fit_transform(tv_train)\n",
    "#print(lsa_train)\n",
    "lsa_test = lsa.transform(tv_test)  # transform tfidf test\n",
    "print('latent semantic analysis --- end')"
   ]
  },
  {
   "cell_type": "code",
   "execution_count": 9,
   "id": "5dded0a5",
   "metadata": {},
   "outputs": [
    {
     "name": "stdout",
     "output_type": "stream",
     "text": [
      "build and predict --- start\n",
      "build and predict --- end\n",
      "\n"
     ]
    }
   ],
   "source": [
    "# build model and predict with lsa train (machine learning)\n",
    "print('build and predict --- start')\n",
    "svm = LinearSVC()\n",
    "svm.fit(lsa_train, trainY)\n",
    "svm_pred = svm.predict(lsa_test)\n",
    "print('build and predict --- end')\n",
    "\n",
    "print()\n"
   ]
  },
  {
   "cell_type": "code",
   "execution_count": 13,
   "id": "7765f9c6",
   "metadata": {},
   "outputs": [
    {
     "name": "stdout",
     "output_type": "stream",
     "text": [
      "\n",
      "Model Evaluation:\n",
      "Performance Metrics:\n",
      "           accuracy    precision    recall     f1\n",
      "-------  ----------  -----------  --------  -----\n",
      "metrics        0.81        0.712     0.684  0.697\n"
     ]
    }
   ],
   "source": [
    "# evaluation\n",
    "print('\\nModel Evaluation:')\n",
    "svm_accuracy = np.round(mt.accuracy_score(testY, svm_pred), 3)\n",
    "svm_precision = np.round(mt.precision_score(testY, svm_pred, average='macro'), 3)\n",
    "svm_recall = np.round(mt.recall_score(testY, svm_pred, average='macro'), 3)\n",
    "svm_f1 = np.round(mt.f1_score(testY, svm_pred, average='macro'), 3)\n",
    "\n",
    "svm_metrics = np.array([svm_accuracy, svm_precision, svm_recall, svm_f1])\n",
    "svm_metrics = pd.DataFrame([svm_metrics], columns=['accuracy', 'precision', 'recall', 'f1'], index=['metrics'])\n",
    "print('Performance Metrics:')\n",
    "print(tabulate(svm_metrics, headers='keys'))"
   ]
  },
  {
   "cell_type": "code",
   "execution_count": 11,
   "id": "e42421c6",
   "metadata": {},
   "outputs": [
    {
     "data": {
      "text/plain": [
       "<Figure size 432x288 with 0 Axes>"
      ]
     },
     "metadata": {},
     "output_type": "display_data"
    },
    {
     "data": {
      "image/png": "[encoded data removed]",
      "text/plain": [
       "<Figure size 432x288 with 1 Axes>"
      ]
     },
     "metadata": {
      "needs_background": "light"
     },
     "output_type": "display_data"
    }
   ],
   "source": [
    "fig = plt.figure()\n",
    "ax = svm_metrics.plot.bar()\n",
    "plt.title('Hybrid Approach Performance Evaluation\\n')\n",
    "plt.ylabel('result')\n",
    "plt.xlabel('model evualtion')\n",
    "plt.xticks(rotation=-360)  # rotate x labels\n",
    "plt.ylim([0.1, 1.0])\n",
    "for item in ax.patches:  # show value on plot\n",
    "    ax.annotate(np.round(item.get_height(), decimals=2), (item.get_x() + item.get_width() / 2., item.get_height()),\n",
    "                ha='center', va='center', xytext=(0, 10), textcoords='offset points')\n",
    "plt.savefig('../results/hybrid_performance.png', format='png', transparent=False)  # save result\n",
    "plt.show()"
   ]
  },
  {
   "cell_type": "code",
   "execution_count": 14,
   "id": "64f2b83d",
   "metadata": {},
   "outputs": [
    {
     "name": "stdout",
     "output_type": "stream",
     "text": [
      "\n",
      "Confusion Matrix of Hybrid Approach:\n",
      "\n"
     ]
    },
    {
     "name": "stderr",
     "output_type": "stream",
     "text": [
      "<ipython-input-14-5df26325bc1e>:13: UserWarning: FixedFormatter should only be used together with FixedLocator\n",
      "  ax.set_xticklabels([''] + labels)\n",
      "<ipython-input-14-5df26325bc1e>:14: UserWarning: FixedFormatter should only be used together with FixedLocator\n",
      "  ax.set_yticklabels([''] + labels)\n"
     ]
    },
    {
     "data": {
      "image/png": "[encoded data removed]",
      "text/plain": [
       "<Figure size 432x288 with 2 Axes>"
      ]
     },
     "metadata": {
      "needs_background": "light"
     },
     "output_type": "display_data"
    }
   ],
   "source": [
    "print('\\nConfusion Matrix of Hybrid Approach:\\n')\n",
    "\n",
    "# display and plot confusion matrix\n",
    "labels = ['positive', 'negative', 'neutral']\n",
    "svm_cm = mt.confusion_matrix(testY, svm_pred, labels=labels)\n",
    "\n",
    "# plot\n",
    "# display and plot confusion matrix\n",
    "fig = plt.figure()\n",
    "ax = fig.add_subplot(111)\n",
    "plt.title('Confusion Matrix of Hybrid Approach\\n')\n",
    "fig.colorbar(ax.matshow(svm_cm))\n",
    "ax.set_xticklabels([''] + labels)\n",
    "ax.set_yticklabels([''] + labels)\n",
    "plt.xlabel('predicted')\n",
    "plt.ylabel('true')\n",
    "plt.savefig('../results/hybrid_confusion_matrix.png',  format='png', transparent=False)  # save result\n",
    "plt.show()"
   ]
  },
  {
   "cell_type": "code",
   "execution_count": 15,
   "id": "b1b25f06",
   "metadata": {},
   "outputs": [
    {
     "name": "stdout",
     "output_type": "stream",
     "text": [
      "\n",
      "Classification Report of Hybrid Approach to Sentiment Analysis:\n",
      "\n",
      "              precision    recall  f1-score   support\n",
      "\n",
      "    positive       0.88      0.91      0.89     13385\n",
      "    negative       0.65      0.60      0.63      4129\n",
      "     neutral       0.60      0.54      0.57      1911\n",
      "\n",
      "    accuracy                           0.81     19425\n",
      "   macro avg       0.71      0.68      0.70     19425\n",
      "weighted avg       0.80      0.81      0.81     19425\n",
      "\n",
      "\n"
     ]
    }
   ],
   "source": [
    "print('\\nClassification Report of Hybrid Approach to Sentiment Analysis:\\n')\n",
    "\n",
    "# classification report for hybrid approach\n",
    "svm_report = mt.classification_report(testY, svm_pred, labels=labels)\n",
    "print(svm_report)\n",
    "\n",
    "print()"
   ]
  },
  {
   "cell_type": "code",
   "execution_count": 16,
   "id": "ae837e4b",
   "metadata": {},
   "outputs": [],
   "source": [
    "# output performance to csv\n",
    "svm_metrics.to_csv('hybrid_performance_result.csv', index=None, header=True)\n",
    "\n",
    "# end of hybrid approach"
   ]
  },
  {
   "cell_type": "code",
   "execution_count": null,
   "id": "7db248a8",
   "metadata": {},
   "outputs": [],
   "source": []
  }
 ],
 "metadata": {
  "kernelspec": {
   "display_name": "Python 3",
   "language": "python",
   "name": "python3"
  },
  "language_info": {
   "codemirror_mode": {
    "name": "ipython",
    "version": 3
   },
   "file_extension": ".py",
   "mimetype": "text/x-python",
   "name": "python",
   "nbconvert_exporter": "python",
   "pygments_lexer": "ipython3",
   "version": "3.8.8"
  }
 },
 "nbformat": 4,
 "nbformat_minor": 5
}
